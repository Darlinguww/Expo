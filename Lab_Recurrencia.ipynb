{
  "nbformat": 4,
  "nbformat_minor": 0,
  "metadata": {
    "colab": {
      "provenance": [],
      "include_colab_link": true
    },
    "kernelspec": {
      "name": "python3",
      "display_name": "Python 3"
    },
    "language_info": {
      "name": "python"
    }
  },
  "cells": [
    {
      "cell_type": "markdown",
      "metadata": {
        "id": "view-in-github",
        "colab_type": "text"
      },
      "source": [
        "<a href=\"https://colab.research.google.com/github/Darlinguww/Expo/blob/main/Lab_Recurrencia.ipynb\" target=\"_parent\"><img src=\"https://colab.research.google.com/assets/colab-badge.svg\" alt=\"Open In Colab\"/></a>"
      ]
    },
    {
      "cell_type": "markdown",
      "source": [
        "# Proyecto de Relaciones de Recurrencias Lineales, homogéneas y coeficientes constantes."
      ],
      "metadata": {
        "id": "-G7q6xsyvXTU"
      }
    },
    {
      "cell_type": "markdown",
      "source": [
        "Dado una función de recurrencia lineal, homogénea y de coeficientes constantes de grado m. Encontrar una expresión no recurrente.\n",
        "El input incluye, el valor de m, luego los m coeficiente de ai, y luego los m valores iniciales de Ci"
      ],
      "metadata": {
        "id": "OJOjkzRavtdP"
      }
    },
    {
      "cell_type": "code",
      "execution_count": 23,
      "metadata": {
        "id": "OeOgucgfERUD"
      },
      "outputs": [],
      "source": [
        "import numpy as np\n",
        "from sympy import symbols, Poly, simplify\n"
      ]
    },
    {
      "cell_type": "markdown",
      "source": [
        "Hallar las raíces del polinomio característico\n",
        "\n",
        "\n",
        "*   Si M es 1, se debe despejar\n",
        "*   Si M es 2, se hace la formula cuádratica o hacer Factorización\n",
        "*   Si M es 3 o mayor :\n",
        "\n",
        "1. Extraer factor común\n",
        "2. Productos notables\n",
        "3. Ruffini\n",
        "4. Factorizar y aplicar la Ecuación de segundo grado\n",
        "\n",
        "\n",
        "\n",
        "\n",
        "\n",
        "\n",
        "\n",
        "\n",
        "\n"
      ],
      "metadata": {
        "id": "ybwAY39g-Ntb"
      }
    },
    {
      "cell_type": "code",
      "source": [
        "print(\"***Algoritmo que dado una función de recurrencia lineal***\")\n",
        "print(\"***homogenea y de coeficientes constantes de grado m***\")\n",
        "print(\"***encuentre una expresión no recurrente.***\")\n",
        "\n",
        "# [1,1,1,-2]\n",
        "\n",
        "def entrada():\n",
        "    m=int(input(\"Ingrese el valor del grado de la ecuación: \"))\n",
        "    coeficientes=[]\n",
        "    for i in range(0,m):\n",
        "        ai=int(input(\"Ingrese el valor del coeficiente ai: \"))\n",
        "        coeficientes.append(ai)\n",
        "    valor_inicial=[]\n",
        "    for i in range(0,m):\n",
        "        ci=int(input(\"Ingrese el valor iniciales Ci: \"))\n",
        "        valor_inicial.append(ci)\n",
        "    return m,coeficientes,valor_inicial\n",
        "\n",
        "def sol_Polinomio(listaCoef):\n",
        "   # Encontrar las raíces del polinomio\n",
        "    listaR = np.roots(listaCoef)\n",
        "    # Convertir las raíces a enteros\n",
        "    listaR = [int(round(raiz)) for raiz in listaR]\n",
        "    return listaR\n",
        "\n",
        "\n",
        "\n",
        "# FUNCIÓN PARA HALLAR LA MULTIPLICIDAD DE UNA RAIZ\n",
        "\n",
        "def hallarMult(listaRaices,raiz):\n",
        "  multiplicidad = 0\n",
        "  for i in listaRaices:\n",
        "    if i == raiz:\n",
        "      multiplicidad += 1\n",
        "  return multiplicidad\n",
        "\n",
        "\n",
        "def calcularMn(multi,coef,raiz,n):\n",
        "    #Creo una lista en la que voy almacenando los valores de la expresión no recurrente\n",
        "    val_nR = []\n",
        "    # primera raíz\n",
        "    exp = coef[0]* raiz[i]**n\n",
        "    val_nR.append(exp.as_expr())\n",
        "    # resto de raíces\n",
        "    for i in range(1, multi-1):\n",
        "      exp= coef[i]* n**i * raiz[i]**n\n",
        "      val_nR.append(exp.as_expr())\n",
        "    return val_nR\n",
        "\n",
        "def calcularRealDif(valI,raiz,n):\n",
        "  p = valI*raiz**n\n",
        "  return p.as_expr()\n",
        "\n",
        "\n",
        "def E_noRecurrente(grado,listaCoef,listaValI):\n",
        "  # La lista de coeficientes constante tiene una modificación: 1 es el coeficiente de fn, y los coeficientes de la lista se multiplican por -1\n",
        "  for i in range(0,len(listaCoef)):\n",
        "    listaCoef[i] = listaCoef[i]*-1\n",
        "  listaCoef.insert(0,1)\n",
        "  n = symbols('n')\n",
        "  # Encontrar las raíces al polinomio\n",
        "  if grado == 1:\n",
        "\n",
        "    p = int(listaValI[0])*int(listaCoef[0])**n\n",
        "    print(\"La expresión no recurrente es: \", p)\n",
        "  else:\n",
        "    raices = sol_Polinomio(listaCoef)\n",
        "    print(\"Las raíces del polinomio característico son: \", raices)\n",
        "    # ej raices: [2,1], [1,1,1,2]\n",
        "    # ej lista COEF: [1,-3,2]\n",
        "    # ej lista condiciones I: [1,2,3,1]\n",
        "    # Armar la expresión:\n",
        "    listTotalexp = []\n",
        "    indR= 0\n",
        "\n",
        "    while len(raices) > indR:\n",
        "      mult=hallarMult(raices,raices[indR])\n",
        "      if mult == 1:\n",
        "        exp_NoRecurrente = calcularRealDif(listaValI[indR],raices[indR],n)\n",
        "        listTotalexp.append(exp_NoRecurrente)\n",
        "      else:\n",
        "        # Mandarle la lista de coeficientes de la raiz que se repite\n",
        "        listAux = listaValI[indR:mult+1]\n",
        "        exp_NoRecurrente = calcularMn(mult,listAux,raices[indR],n)\n",
        "        # Se añade los componentes uno a uno\n",
        "        for exp in exp_NoRecurrente:\n",
        "          listTotalexp.append(exp)\n",
        "\n",
        "\n",
        "      indR+=mult\n",
        "\n",
        "     # Mostrar la expresión no recurrente en una sola línea\n",
        "    expresion_final = \" + \".join(map(str, listTotalexp))\n",
        "    print(\"La expresión no recurrente es: \", expresion_final)\n",
        "\n",
        "\n",
        "\n",
        "\n",
        "\n",
        "\n",
        "m,ListC,ListV=entrada()\n",
        "E_noRecurrente(m,ListC,ListV)\n"
      ],
      "metadata": {
        "id": "WQ5sPhLnnnW9",
        "colab": {
          "base_uri": "https://localhost:8080/"
        },
        "outputId": "d33885e3-1640-41ad-86c1-b3e58fdaacff"
      },
      "execution_count": 24,
      "outputs": [
        {
          "output_type": "stream",
          "name": "stdout",
          "text": [
            "***Algoritmo que dado una función de recurrencia lineal***\n",
            "***homogenea y de coeficientes constantes de grado m***\n",
            "***encuentre una expresión no recurrente.***\n",
            "Ingrese el valor del grado de la ecuación: 2\n",
            "Ingrese el valor del coeficiente ai: 3\n",
            "Ingrese el valor del coeficiente ai: 2\n",
            "Ingrese el valor iniciales Ci: 1\n",
            "Ingrese el valor iniciales Ci: 2\n",
            "Las raíces del polinomio característico son:  [4, -1]\n",
            "La expresión no recurrente es:  4**n + 2*(-1)**n\n"
          ]
        }
      ]
    }
  ]
}